{
  "nbformat": 4,
  "nbformat_minor": 0,
  "metadata": {
    "colab": {
      "provenance": [],
      "authorship_tag": "ABX9TyPgFfOzH/ysZ4BTzOfiQDc/",
      "include_colab_link": true
    },
    "kernelspec": {
      "name": "python3",
      "display_name": "Python 3"
    },
    "language_info": {
      "name": "python"
    }
  },
  "cells": [
    {
      "cell_type": "markdown",
      "metadata": {
        "id": "view-in-github",
        "colab_type": "text"
      },
      "source": [
        "<a href=\"https://colab.research.google.com/github/jhxmluv/midterm24/blob/main/midterm24_Jiham_Ha(%ED%95%98%EC%A7%80%ED%95%A8).ipynb\" target=\"_parent\"><img src=\"https://colab.research.google.com/assets/colab-badge.svg\" alt=\"Open In Colab\"/></a>"
      ]
    },
    {
      "cell_type": "code",
      "execution_count": 6,
      "metadata": {
        "colab": {
          "base_uri": "https://localhost:8080/"
        },
        "id": "Szv9HCnnWaeV",
        "outputId": "d5510e66-f544-48cc-cafc-9735d3916338"
      },
      "outputs": [
        {
          "output_type": "stream",
          "name": "stdout",
          "text": [
            "5557\n"
          ]
        }
      ],
      "source": [
        "print('5' * 3 + '7')"
      ]
    },
    {
      "cell_type": "markdown",
      "source": [
        "##Index Question"
      ],
      "metadata": {
        "id": "5hYaB59Ib4uh"
      }
    },
    {
      "cell_type": "code",
      "source": [
        "# Dropdown\n",
        "\n",
        "cardinal_number = \"3\" #@param = [\"1\",\"2\",\"3\",\"4\"]\n",
        "\n",
        "# Add one line of code below\n",
        "cardinal_number = int(cardinal_number)\n",
        "\n",
        "# Ordinal expression as a list\n",
        "\n",
        "words = [\"First\", \"Second\", \"Third\",\"Fourth\"]\n",
        "\n",
        "print(\"The ordinal expression:\", words[cardinal_number - 1])"
      ],
      "metadata": {
        "colab": {
          "base_uri": "https://localhost:8080/"
        },
        "id": "VHFNAGbJcklg",
        "outputId": "7ae59066-da25-4c6c-dc71-2c3234700607"
      },
      "execution_count": 22,
      "outputs": [
        {
          "output_type": "stream",
          "name": "stdout",
          "text": [
            "The ordinal expression: Third\n"
          ]
        }
      ]
    },
    {
      "cell_type": "markdown",
      "source": [
        "##Variable Question"
      ],
      "metadata": {
        "id": "gt8vJmYrddHB"
      }
    },
    {
      "cell_type": "code",
      "source": [
        "#'Mary, 1998, Ohio; and John, 1999, Boston.'\n",
        "\n",
        "x = input('Name: ')\n",
        "y = input('born in: ')\n",
        "z = input('hometown: ')\n",
        "\n",
        "print(\"Hello, my name is \" + x + \".\" + \" \" + \"I was born in\" + \" \" + y + \",\" + \" \" + \"and I'm from\" + \" \" + z + \".\" + \" \" + \"Nice to meet you.\")\n"
      ],
      "metadata": {
        "colab": {
          "base_uri": "https://localhost:8080/"
        },
        "id": "5hAT2Yo3djEo",
        "outputId": "00e11c63-b01b-4eba-d37b-a166d98f9c89"
      },
      "execution_count": 38,
      "outputs": [
        {
          "output_type": "stream",
          "name": "stdout",
          "text": [
            "Name: John\n",
            "born in: 1999\n",
            "hometown: Boston\n",
            "Hello, my name is John. I was born in 1999, and I'm from Boston. Nice to meet you.\n"
          ]
        }
      ]
    },
    {
      "cell_type": "markdown",
      "source": [
        "## Name Question"
      ],
      "metadata": {
        "id": "M2NGPq0BgxrZ"
      }
    },
    {
      "cell_type": "code",
      "source": [
        "#Name question\n",
        "\n",
        "x = \"My name is\"\n",
        "y = \"Jiham Ha\"\n",
        "\n",
        "print(x + \" \" + y + \".\")"
      ],
      "metadata": {
        "colab": {
          "base_uri": "https://localhost:8080/"
        },
        "id": "1qi8BmH9g17Y",
        "outputId": "0a05b0bc-b536-437b-bbed-de6ca739feb5"
      },
      "execution_count": 42,
      "outputs": [
        {
          "output_type": "stream",
          "name": "stdout",
          "text": [
            "My name is Jiham Ha.\n"
          ]
        }
      ]
    },
    {
      "cell_type": "markdown",
      "source": [
        "##Dictionary Question"
      ],
      "metadata": {
        "id": "JWT9_0S5hxXn"
      }
    },
    {
      "cell_type": "code",
      "source": [
        "grades = {'Bob': 80, 'student1': 75, 'student2': 70}\n",
        "\n",
        "name = grades[\"Bob\"]\n",
        "print(name)\n"
      ],
      "metadata": {
        "colab": {
          "base_uri": "https://localhost:8080/"
        },
        "id": "ZbBZHS3Rh0NX",
        "outputId": "4a38f4ba-939f-429b-ae9b-f3ebe1a0df6d"
      },
      "execution_count": 46,
      "outputs": [
        {
          "output_type": "stream",
          "name": "stdout",
          "text": [
            "80\n"
          ]
        }
      ]
    },
    {
      "cell_type": "markdown",
      "source": [
        "##GTTS Question"
      ],
      "metadata": {
        "id": "ZklDBRIZjIb_"
      }
    },
    {
      "cell_type": "code",
      "source": [
        "# First, install the gTTS library if you haven't already\n",
        "!pip install gTTS\n",
        "\n",
        "# Import the gTTS library\n",
        "from gtts import gTTS\n",
        "\n",
        "# Import IPython display module\n",
        "from IPython.display import Audio, display"
      ],
      "metadata": {
        "colab": {
          "base_uri": "https://localhost:8080/"
        },
        "id": "oLFzdNVDjLvo",
        "outputId": "349e0199-87af-46c9-9765-d48b5c0d5d73"
      },
      "execution_count": 47,
      "outputs": [
        {
          "output_type": "stream",
          "name": "stdout",
          "text": [
            "Collecting gTTS\n",
            "  Downloading gTTS-2.5.1-py3-none-any.whl (29 kB)\n",
            "Requirement already satisfied: requests<3,>=2.27 in /usr/local/lib/python3.10/dist-packages (from gTTS) (2.31.0)\n",
            "Requirement already satisfied: click<8.2,>=7.1 in /usr/local/lib/python3.10/dist-packages (from gTTS) (8.1.7)\n",
            "Requirement already satisfied: charset-normalizer<4,>=2 in /usr/local/lib/python3.10/dist-packages (from requests<3,>=2.27->gTTS) (3.3.2)\n",
            "Requirement already satisfied: idna<4,>=2.5 in /usr/local/lib/python3.10/dist-packages (from requests<3,>=2.27->gTTS) (3.7)\n",
            "Requirement already satisfied: urllib3<3,>=1.21.1 in /usr/local/lib/python3.10/dist-packages (from requests<3,>=2.27->gTTS) (2.0.7)\n",
            "Requirement already satisfied: certifi>=2017.4.17 in /usr/local/lib/python3.10/dist-packages (from requests<3,>=2.27->gTTS) (2024.2.2)\n",
            "Installing collected packages: gTTS\n",
            "Successfully installed gTTS-2.5.1\n"
          ]
        }
      ]
    },
    {
      "cell_type": "code",
      "source": [
        "# Text to be converted to speech\n",
        "text = \"I have succeeded in this  task\"\n",
        "\n",
        "# Language in which you want to convert\n",
        "language = 'en'\n",
        "\n",
        "# Pass the text and language to the gTTS module\n",
        "speech = gTTS(text = text, lang = language, slow = False)\n",
        "\n",
        "# Save the converted audio file\n",
        "speech.save(\"output.mp3\")\n",
        "\n",
        "# Display the audio directly in the notebook\n",
        "display(Audio(\"output.mp3\", autoplay=True))"
      ],
      "metadata": {
        "colab": {
          "base_uri": "https://localhost:8080/",
          "height": 74
        },
        "id": "qE7DGod9jhPP",
        "outputId": "1e94deb4-c2af-4e11-9c26-705478a7f5c4"
      },
      "execution_count": 48,
      "outputs": [
        {
          "output_type": "display_data",
          "data": {
            "text/plain": [
              "<IPython.lib.display.Audio object>"
            ],
            "text/html": [
              "\n",
              "                <audio  controls=\"controls\" autoplay=\"autoplay\">\n",
              "                    <source src=\"data:audio/mpeg;base64,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\" type=\"audio/mpeg\" />\n",
              "                    Your browser does not support the audio element.\n",
              "                </audio>\n",
              "              "
            ]
          },
          "metadata": {}
        }
      ]
    },
    {
      "cell_type": "markdown",
      "source": [
        "##Function Question"
      ],
      "metadata": {
        "id": "ER9ny-UqkI5A"
      }
    },
    {
      "cell_type": "code",
      "source": [
        "# Define a function for multiplication\n",
        "def division(x, y):\n",
        "    return x / y\n",
        "\n",
        "# Test the function\n",
        "result = division(20, 4)\n",
        "print(\"The result of division is:\", result)"
      ],
      "metadata": {
        "colab": {
          "base_uri": "https://localhost:8080/"
        },
        "id": "r4ORDW90kLK4",
        "outputId": "b5b867aa-966a-4f68-dc80-2aa19f8e110c"
      },
      "execution_count": 50,
      "outputs": [
        {
          "output_type": "stream",
          "name": "stdout",
          "text": [
            "The result of division is: 5.0\n"
          ]
        }
      ]
    },
    {
      "cell_type": "markdown",
      "source": [
        "##Audio Question"
      ],
      "metadata": {
        "id": "qfWAary0kopx"
      }
    },
    {
      "cell_type": "code",
      "source": [
        "# First, install the gTTS library if you haven't already\n",
        "!pip install gTTS\n",
        "\n",
        "# Import the gTTS library\n",
        "from gtts import gTTS\n",
        "\n",
        "# Import IPython display module\n",
        "from IPython.display import Audio, display"
      ],
      "metadata": {
        "colab": {
          "base_uri": "https://localhost:8080/"
        },
        "id": "8VEtIRHfkra3",
        "outputId": "11b7227c-4765-47a5-e088-b9666571bdfc"
      },
      "execution_count": 51,
      "outputs": [
        {
          "output_type": "stream",
          "name": "stdout",
          "text": [
            "Requirement already satisfied: gTTS in /usr/local/lib/python3.10/dist-packages (2.5.1)\n",
            "Requirement already satisfied: requests<3,>=2.27 in /usr/local/lib/python3.10/dist-packages (from gTTS) (2.31.0)\n",
            "Requirement already satisfied: click<8.2,>=7.1 in /usr/local/lib/python3.10/dist-packages (from gTTS) (8.1.7)\n",
            "Requirement already satisfied: charset-normalizer<4,>=2 in /usr/local/lib/python3.10/dist-packages (from requests<3,>=2.27->gTTS) (3.3.2)\n",
            "Requirement already satisfied: idna<4,>=2.5 in /usr/local/lib/python3.10/dist-packages (from requests<3,>=2.27->gTTS) (3.7)\n",
            "Requirement already satisfied: urllib3<3,>=1.21.1 in /usr/local/lib/python3.10/dist-packages (from requests<3,>=2.27->gTTS) (2.0.7)\n",
            "Requirement already satisfied: certifi>=2017.4.17 in /usr/local/lib/python3.10/dist-packages (from requests<3,>=2.27->gTTS) (2024.2.2)\n"
          ]
        }
      ]
    },
    {
      "cell_type": "code",
      "source": [
        "!pip install gradio"
      ],
      "metadata": {
        "colab": {
          "base_uri": "https://localhost:8080/"
        },
        "id": "JqQspgrfk9XX",
        "outputId": "9aa904f8-e689-4c17-f7d5-84eac05b8ffe"
      },
      "execution_count": 53,
      "outputs": [
        {
          "output_type": "stream",
          "name": "stdout",
          "text": [
            "Collecting gradio\n",
            "  Downloading gradio-4.28.3-py3-none-any.whl (12.2 MB)\n",
            "\u001b[2K     \u001b[90m━━━━━━━━━━━━━━━━━━━━━━━━━━━━━━━━━━━━━━━━\u001b[0m \u001b[32m12.2/12.2 MB\u001b[0m \u001b[31m25.7 MB/s\u001b[0m eta \u001b[36m0:00:00\u001b[0m\n",
            "\u001b[?25hCollecting aiofiles<24.0,>=22.0 (from gradio)\n",
            "  Downloading aiofiles-23.2.1-py3-none-any.whl (15 kB)\n",
            "Requirement already satisfied: altair<6.0,>=4.2.0 in /usr/local/lib/python3.10/dist-packages (from gradio) (4.2.2)\n",
            "Collecting fastapi (from gradio)\n",
            "  Downloading fastapi-0.110.3-py3-none-any.whl (91 kB)\n",
            "\u001b[2K     \u001b[90m━━━━━━━━━━━━━━━━━━━━━━━━━━━━━━━━━━━━━━━━\u001b[0m \u001b[32m91.8/91.8 kB\u001b[0m \u001b[31m8.9 MB/s\u001b[0m eta \u001b[36m0:00:00\u001b[0m\n",
            "\u001b[?25hCollecting ffmpy (from gradio)\n",
            "  Downloading ffmpy-0.3.2.tar.gz (5.5 kB)\n",
            "  Preparing metadata (setup.py) ... \u001b[?25l\u001b[?25hdone\n",
            "Collecting gradio-client==0.16.0 (from gradio)\n",
            "  Downloading gradio_client-0.16.0-py3-none-any.whl (314 kB)\n",
            "\u001b[2K     \u001b[90m━━━━━━━━━━━━━━━━━━━━━━━━━━━━━━━━━━━━━━━━\u001b[0m \u001b[32m314.4/314.4 kB\u001b[0m \u001b[31m22.6 MB/s\u001b[0m eta \u001b[36m0:00:00\u001b[0m\n",
            "\u001b[?25hCollecting httpx>=0.24.1 (from gradio)\n",
            "  Downloading httpx-0.27.0-py3-none-any.whl (75 kB)\n",
            "\u001b[2K     \u001b[90m━━━━━━━━━━━━━━━━━━━━━━━━━━━━━━━━━━━━━━━━\u001b[0m \u001b[32m75.6/75.6 kB\u001b[0m \u001b[31m5.6 MB/s\u001b[0m eta \u001b[36m0:00:00\u001b[0m\n",
            "\u001b[?25hRequirement already satisfied: huggingface-hub>=0.19.3 in /usr/local/lib/python3.10/dist-packages (from gradio) (0.20.3)\n",
            "Requirement already satisfied: importlib-resources<7.0,>=1.3 in /usr/local/lib/python3.10/dist-packages (from gradio) (6.4.0)\n",
            "Requirement already satisfied: jinja2<4.0 in /usr/local/lib/python3.10/dist-packages (from gradio) (3.1.3)\n",
            "Requirement already satisfied: markupsafe~=2.0 in /usr/local/lib/python3.10/dist-packages (from gradio) (2.1.5)\n",
            "Requirement already satisfied: matplotlib~=3.0 in /usr/local/lib/python3.10/dist-packages (from gradio) (3.7.1)\n",
            "Requirement already satisfied: numpy~=1.0 in /usr/local/lib/python3.10/dist-packages (from gradio) (1.25.2)\n",
            "Collecting orjson~=3.0 (from gradio)\n",
            "  Downloading orjson-3.10.1-cp310-cp310-manylinux_2_17_x86_64.manylinux2014_x86_64.whl (141 kB)\n",
            "\u001b[2K     \u001b[90m━━━━━━━━━━━━━━━━━━━━━━━━━━━━━━━━━━━━━━━━\u001b[0m \u001b[32m141.1/141.1 kB\u001b[0m \u001b[31m15.1 MB/s\u001b[0m eta \u001b[36m0:00:00\u001b[0m\n",
            "\u001b[?25hRequirement already satisfied: packaging in /usr/local/lib/python3.10/dist-packages (from gradio) (24.0)\n",
            "Requirement already satisfied: pandas<3.0,>=1.0 in /usr/local/lib/python3.10/dist-packages (from gradio) (2.0.3)\n",
            "Requirement already satisfied: pillow<11.0,>=8.0 in /usr/local/lib/python3.10/dist-packages (from gradio) (9.4.0)\n",
            "Requirement already satisfied: pydantic>=2.0 in /usr/local/lib/python3.10/dist-packages (from gradio) (2.7.0)\n",
            "Collecting pydub (from gradio)\n",
            "  Downloading pydub-0.25.1-py2.py3-none-any.whl (32 kB)\n",
            "Collecting python-multipart>=0.0.9 (from gradio)\n",
            "  Downloading python_multipart-0.0.9-py3-none-any.whl (22 kB)\n",
            "Requirement already satisfied: pyyaml<7.0,>=5.0 in /usr/local/lib/python3.10/dist-packages (from gradio) (6.0.1)\n",
            "Collecting ruff>=0.2.2 (from gradio)\n",
            "  Downloading ruff-0.4.2-py3-none-manylinux_2_17_x86_64.manylinux2014_x86_64.whl (8.8 MB)\n",
            "\u001b[2K     \u001b[90m━━━━━━━━━━━━━━━━━━━━━━━━━━━━━━━━━━━━━━━━\u001b[0m \u001b[32m8.8/8.8 MB\u001b[0m \u001b[31m39.4 MB/s\u001b[0m eta \u001b[36m0:00:00\u001b[0m\n",
            "\u001b[?25hCollecting semantic-version~=2.0 (from gradio)\n",
            "  Downloading semantic_version-2.10.0-py2.py3-none-any.whl (15 kB)\n",
            "Collecting tomlkit==0.12.0 (from gradio)\n",
            "  Downloading tomlkit-0.12.0-py3-none-any.whl (37 kB)\n",
            "Collecting typer<1.0,>=0.12 (from gradio)\n",
            "  Downloading typer-0.12.3-py3-none-any.whl (47 kB)\n",
            "\u001b[2K     \u001b[90m━━━━━━━━━━━━━━━━━━━━━━━━━━━━━━━━━━━━━━━━\u001b[0m \u001b[32m47.2/47.2 kB\u001b[0m \u001b[31m4.3 MB/s\u001b[0m eta \u001b[36m0:00:00\u001b[0m\n",
            "\u001b[?25hRequirement already satisfied: typing-extensions~=4.0 in /usr/local/lib/python3.10/dist-packages (from gradio) (4.11.0)\n",
            "Requirement already satisfied: urllib3~=2.0 in /usr/local/lib/python3.10/dist-packages (from gradio) (2.0.7)\n",
            "Collecting uvicorn>=0.14.0 (from gradio)\n",
            "  Downloading uvicorn-0.29.0-py3-none-any.whl (60 kB)\n",
            "\u001b[2K     \u001b[90m━━━━━━━━━━━━━━━━━━━━━━━━━━━━━━━━━━━━━━━━\u001b[0m \u001b[32m60.8/60.8 kB\u001b[0m \u001b[31m6.5 MB/s\u001b[0m eta \u001b[36m0:00:00\u001b[0m\n",
            "\u001b[?25hRequirement already satisfied: fsspec in /usr/local/lib/python3.10/dist-packages (from gradio-client==0.16.0->gradio) (2023.6.0)\n",
            "Collecting websockets<12.0,>=10.0 (from gradio-client==0.16.0->gradio)\n",
            "  Downloading websockets-11.0.3-cp310-cp310-manylinux_2_5_x86_64.manylinux1_x86_64.manylinux_2_17_x86_64.manylinux2014_x86_64.whl (129 kB)\n",
            "\u001b[2K     \u001b[90m━━━━━━━━━━━━━━━━━━━━━━━━━━━━━━━━━━━━━━━━\u001b[0m \u001b[32m129.9/129.9 kB\u001b[0m \u001b[31m12.6 MB/s\u001b[0m eta \u001b[36m0:00:00\u001b[0m\n",
            "\u001b[?25hRequirement already satisfied: entrypoints in /usr/local/lib/python3.10/dist-packages (from altair<6.0,>=4.2.0->gradio) (0.4)\n",
            "Requirement already satisfied: jsonschema>=3.0 in /usr/local/lib/python3.10/dist-packages (from altair<6.0,>=4.2.0->gradio) (4.19.2)\n",
            "Requirement already satisfied: toolz in /usr/local/lib/python3.10/dist-packages (from altair<6.0,>=4.2.0->gradio) (0.12.1)\n",
            "Requirement already satisfied: anyio in /usr/local/lib/python3.10/dist-packages (from httpx>=0.24.1->gradio) (3.7.1)\n",
            "Requirement already satisfied: certifi in /usr/local/lib/python3.10/dist-packages (from httpx>=0.24.1->gradio) (2024.2.2)\n",
            "Collecting httpcore==1.* (from httpx>=0.24.1->gradio)\n",
            "  Downloading httpcore-1.0.5-py3-none-any.whl (77 kB)\n",
            "\u001b[2K     \u001b[90m━━━━━━━━━━━━━━━━━━━━━━━━━━━━━━━━━━━━━━━━\u001b[0m \u001b[32m77.9/77.9 kB\u001b[0m \u001b[31m8.1 MB/s\u001b[0m eta \u001b[36m0:00:00\u001b[0m\n",
            "\u001b[?25hRequirement already satisfied: idna in /usr/local/lib/python3.10/dist-packages (from httpx>=0.24.1->gradio) (3.7)\n",
            "Requirement already satisfied: sniffio in /usr/local/lib/python3.10/dist-packages (from httpx>=0.24.1->gradio) (1.3.1)\n",
            "Collecting h11<0.15,>=0.13 (from httpcore==1.*->httpx>=0.24.1->gradio)\n",
            "  Downloading h11-0.14.0-py3-none-any.whl (58 kB)\n",
            "\u001b[2K     \u001b[90m━━━━━━━━━━━━━━━━━━━━━━━━━━━━━━━━━━━━━━━━\u001b[0m \u001b[32m58.3/58.3 kB\u001b[0m \u001b[31m5.9 MB/s\u001b[0m eta \u001b[36m0:00:00\u001b[0m\n",
            "\u001b[?25hRequirement already satisfied: filelock in /usr/local/lib/python3.10/dist-packages (from huggingface-hub>=0.19.3->gradio) (3.13.4)\n",
            "Requirement already satisfied: requests in /usr/local/lib/python3.10/dist-packages (from huggingface-hub>=0.19.3->gradio) (2.31.0)\n",
            "Requirement already satisfied: tqdm>=4.42.1 in /usr/local/lib/python3.10/dist-packages (from huggingface-hub>=0.19.3->gradio) (4.66.2)\n",
            "Requirement already satisfied: contourpy>=1.0.1 in /usr/local/lib/python3.10/dist-packages (from matplotlib~=3.0->gradio) (1.2.1)\n",
            "Requirement already satisfied: cycler>=0.10 in /usr/local/lib/python3.10/dist-packages (from matplotlib~=3.0->gradio) (0.12.1)\n",
            "Requirement already satisfied: fonttools>=4.22.0 in /usr/local/lib/python3.10/dist-packages (from matplotlib~=3.0->gradio) (4.51.0)\n",
            "Requirement already satisfied: kiwisolver>=1.0.1 in /usr/local/lib/python3.10/dist-packages (from matplotlib~=3.0->gradio) (1.4.5)\n",
            "Requirement already satisfied: pyparsing>=2.3.1 in /usr/local/lib/python3.10/dist-packages (from matplotlib~=3.0->gradio) (3.1.2)\n",
            "Requirement already satisfied: python-dateutil>=2.7 in /usr/local/lib/python3.10/dist-packages (from matplotlib~=3.0->gradio) (2.8.2)\n",
            "Requirement already satisfied: pytz>=2020.1 in /usr/local/lib/python3.10/dist-packages (from pandas<3.0,>=1.0->gradio) (2023.4)\n",
            "Requirement already satisfied: tzdata>=2022.1 in /usr/local/lib/python3.10/dist-packages (from pandas<3.0,>=1.0->gradio) (2024.1)\n",
            "Requirement already satisfied: annotated-types>=0.4.0 in /usr/local/lib/python3.10/dist-packages (from pydantic>=2.0->gradio) (0.6.0)\n",
            "Requirement already satisfied: pydantic-core==2.18.1 in /usr/local/lib/python3.10/dist-packages (from pydantic>=2.0->gradio) (2.18.1)\n",
            "Requirement already satisfied: click>=8.0.0 in /usr/local/lib/python3.10/dist-packages (from typer<1.0,>=0.12->gradio) (8.1.7)\n",
            "Collecting shellingham>=1.3.0 (from typer<1.0,>=0.12->gradio)\n",
            "  Downloading shellingham-1.5.4-py2.py3-none-any.whl (9.8 kB)\n",
            "Requirement already satisfied: rich>=10.11.0 in /usr/local/lib/python3.10/dist-packages (from typer<1.0,>=0.12->gradio) (13.7.1)\n",
            "Collecting starlette<0.38.0,>=0.37.2 (from fastapi->gradio)\n",
            "  Downloading starlette-0.37.2-py3-none-any.whl (71 kB)\n",
            "\u001b[2K     \u001b[90m━━━━━━━━━━━━━━━━━━━━━━━━━━━━━━━━━━━━━━━━\u001b[0m \u001b[32m71.9/71.9 kB\u001b[0m \u001b[31m7.4 MB/s\u001b[0m eta \u001b[36m0:00:00\u001b[0m\n",
            "\u001b[?25hRequirement already satisfied: attrs>=22.2.0 in /usr/local/lib/python3.10/dist-packages (from jsonschema>=3.0->altair<6.0,>=4.2.0->gradio) (23.2.0)\n",
            "Requirement already satisfied: jsonschema-specifications>=2023.03.6 in /usr/local/lib/python3.10/dist-packages (from jsonschema>=3.0->altair<6.0,>=4.2.0->gradio) (2023.12.1)\n",
            "Requirement already satisfied: referencing>=0.28.4 in /usr/local/lib/python3.10/dist-packages (from jsonschema>=3.0->altair<6.0,>=4.2.0->gradio) (0.34.0)\n",
            "Requirement already satisfied: rpds-py>=0.7.1 in /usr/local/lib/python3.10/dist-packages (from jsonschema>=3.0->altair<6.0,>=4.2.0->gradio) (0.18.0)\n",
            "Requirement already satisfied: six>=1.5 in /usr/local/lib/python3.10/dist-packages (from python-dateutil>=2.7->matplotlib~=3.0->gradio) (1.16.0)\n",
            "Requirement already satisfied: markdown-it-py>=2.2.0 in /usr/local/lib/python3.10/dist-packages (from rich>=10.11.0->typer<1.0,>=0.12->gradio) (3.0.0)\n",
            "Requirement already satisfied: pygments<3.0.0,>=2.13.0 in /usr/local/lib/python3.10/dist-packages (from rich>=10.11.0->typer<1.0,>=0.12->gradio) (2.16.1)\n",
            "Requirement already satisfied: exceptiongroup in /usr/local/lib/python3.10/dist-packages (from anyio->httpx>=0.24.1->gradio) (1.2.1)\n",
            "Requirement already satisfied: charset-normalizer<4,>=2 in /usr/local/lib/python3.10/dist-packages (from requests->huggingface-hub>=0.19.3->gradio) (3.3.2)\n",
            "Requirement already satisfied: mdurl~=0.1 in /usr/local/lib/python3.10/dist-packages (from markdown-it-py>=2.2.0->rich>=10.11.0->typer<1.0,>=0.12->gradio) (0.1.2)\n",
            "Building wheels for collected packages: ffmpy\n",
            "  Building wheel for ffmpy (setup.py) ... \u001b[?25l\u001b[?25hdone\n",
            "  Created wheel for ffmpy: filename=ffmpy-0.3.2-py3-none-any.whl size=5584 sha256=b0cb2aa710e3a945f4044d09afda7b2340fffe8efe040bfd1caff0a345698c90\n",
            "  Stored in directory: /root/.cache/pip/wheels/bd/65/9a/671fc6dcde07d4418df0c592f8df512b26d7a0029c2a23dd81\n",
            "Successfully built ffmpy\n",
            "Installing collected packages: pydub, ffmpy, websockets, tomlkit, shellingham, semantic-version, ruff, python-multipart, orjson, h11, aiofiles, uvicorn, starlette, httpcore, typer, httpx, fastapi, gradio-client, gradio\n",
            "  Attempting uninstall: typer\n",
            "    Found existing installation: typer 0.9.4\n",
            "    Uninstalling typer-0.9.4:\n",
            "      Successfully uninstalled typer-0.9.4\n",
            "\u001b[31mERROR: pip's dependency resolver does not currently take into account all the packages that are installed. This behaviour is the source of the following dependency conflicts.\n",
            "spacy 3.7.4 requires typer<0.10.0,>=0.3.0, but you have typer 0.12.3 which is incompatible.\n",
            "weasel 0.3.4 requires typer<0.10.0,>=0.3.0, but you have typer 0.12.3 which is incompatible.\u001b[0m\u001b[31m\n",
            "\u001b[0mSuccessfully installed aiofiles-23.2.1 fastapi-0.110.3 ffmpy-0.3.2 gradio-4.28.3 gradio-client-0.16.0 h11-0.14.0 httpcore-1.0.5 httpx-0.27.0 orjson-3.10.1 pydub-0.25.1 python-multipart-0.0.9 ruff-0.4.2 semantic-version-2.10.0 shellingham-1.5.4 starlette-0.37.2 tomlkit-0.12.0 typer-0.12.3 uvicorn-0.29.0 websockets-11.0.3\n"
          ]
        }
      ]
    },
    {
      "cell_type": "code",
      "source": [
        "import gradio as gr\n",
        "from gtts import gTTS\n",
        "import os\n",
        "\n",
        "def text_to_speech(text, language):\n",
        "    lang_code = 'en' if language == \"English\" else 'ko'\n",
        "    tts = gTTS(text=text, lang=lang_code, slow=False)\n",
        "    tts.save(\"output.mp3\")\n",
        "    return \"output.mp3\"\n",
        "\n",
        "interface = gr.Interface(\n",
        "    fn=text_to_speech,\n",
        "    inputs=[\n",
        "        gr.Textbox(lines=3, label=\"Enter text\"),\n",
        "        gr.Radio(choices=[\"English\", \"Korean\"], label=\"Select language\")\n",
        "    ],\n",
        "    outputs=gr.Audio(type=\"filepath\", label=\"Audio\"),\n",
        "    title=\"Text-to-Speech\",\n",
        "    description=\"Type in some text, select a language, and generate audio.\",\n",
        ")\n",
        "\n",
        "interface.launch()\n"
      ],
      "metadata": {
        "colab": {
          "base_uri": "https://localhost:8080/",
          "height": 651
        },
        "id": "qfYZ19hslVsf",
        "outputId": "2612f0fd-f0ac-45ed-e037-0909ae357531"
      },
      "execution_count": 54,
      "outputs": [
        {
          "output_type": "stream",
          "name": "stdout",
          "text": [
            "Setting queue=True in a Colab notebook requires sharing enabled. Setting `share=True` (you can turn this off by setting `share=False` in `launch()` explicitly).\n",
            "\n",
            "Colab notebook detected. To show errors in colab notebook, set debug=True in launch()\n",
            "Running on public URL: https://9fc21e247218a3b191.gradio.live\n",
            "\n",
            "This share link expires in 72 hours. For free permanent hosting and GPU upgrades, run `gradio deploy` from Terminal to deploy to Spaces (https://huggingface.co/spaces)\n"
          ]
        },
        {
          "output_type": "display_data",
          "data": {
            "text/plain": [
              "<IPython.core.display.HTML object>"
            ],
            "text/html": [
              "<div><iframe src=\"https://9fc21e247218a3b191.gradio.live\" width=\"100%\" height=\"500\" allow=\"autoplay; camera; microphone; clipboard-read; clipboard-write;\" frameborder=\"0\" allowfullscreen></iframe></div>"
            ]
          },
          "metadata": {}
        },
        {
          "output_type": "execute_result",
          "data": {
            "text/plain": []
          },
          "metadata": {},
          "execution_count": 54
        }
      ]
    },
    {
      "cell_type": "markdown",
      "source": [],
      "metadata": {
        "id": "S4tAMAN6mFrf"
      }
    },
    {
      "cell_type": "markdown",
      "source": [
        "##Countdown question"
      ],
      "metadata": {
        "id": "LCWQnq3tmHJY"
      }
    },
    {
      "cell_type": "code",
      "source": [
        "import gradio as gr\n",
        "from datetime import datetime\n",
        "\n",
        "def countdown(target_date):\n",
        "    try:\n",
        "        # Parse the user input date\n",
        "        date_format = \"%Y-%m-%d\"\n",
        "        future_date = datetime.strptime(target_date, date_format)\n",
        "\n",
        "        # Get the current time\n",
        "        now = datetime.now()\n",
        "\n",
        "        # Calculate the difference between the future date and the current time\n",
        "        countdown = future_date - now\n",
        "\n",
        "        # Generate the countdown message\n",
        "        if countdown.days >= 0:\n",
        "            return f\"Time until {target_date}: \\n {countdown.days} days, {countdown.seconds//3600} hours, {(countdown.seconds//60)%60} minutes.\"\n",
        "        else:\n",
        "            return \"The specified date has already passed.\"\n",
        "    except ValueError:\n",
        "        return \"Please enter the date in YYYY-MM-DD format.\"\n",
        "\n",
        "# Create the Gradio interface\n",
        "interface = gr.Interface(\n",
        "    fn=countdown,\n",
        "    inputs=gr.Text(label=\"Enter a future date (e.g., 2024-12-25)\"),\n",
        "    outputs=\"text\",\n",
        "    title=\"날짜세기\",\n",
        "    description=\"정해진 때까지 며칠, 몇 시간, 몇 분이 남았는지 확인하기 위해 날짜를 입력하세요.\"\n",
        ")\n",
        "\n",
        "interface.launch()"
      ],
      "metadata": {
        "colab": {
          "base_uri": "https://localhost:8080/",
          "height": 651
        },
        "id": "B9CweHE0mJj4",
        "outputId": "d8f7dd38-8526-47ff-fd72-218a4970b58e"
      },
      "execution_count": 57,
      "outputs": [
        {
          "output_type": "stream",
          "name": "stdout",
          "text": [
            "Setting queue=True in a Colab notebook requires sharing enabled. Setting `share=True` (you can turn this off by setting `share=False` in `launch()` explicitly).\n",
            "\n",
            "Colab notebook detected. To show errors in colab notebook, set debug=True in launch()\n",
            "Running on public URL: https://36362b1ff6735a7c21.gradio.live\n",
            "\n",
            "This share link expires in 72 hours. For free permanent hosting and GPU upgrades, run `gradio deploy` from Terminal to deploy to Spaces (https://huggingface.co/spaces)\n"
          ]
        },
        {
          "output_type": "display_data",
          "data": {
            "text/plain": [
              "<IPython.core.display.HTML object>"
            ],
            "text/html": [
              "<div><iframe src=\"https://36362b1ff6735a7c21.gradio.live\" width=\"100%\" height=\"500\" allow=\"autoplay; camera; microphone; clipboard-read; clipboard-write;\" frameborder=\"0\" allowfullscreen></iframe></div>"
            ]
          },
          "metadata": {}
        },
        {
          "output_type": "execute_result",
          "data": {
            "text/plain": []
          },
          "metadata": {},
          "execution_count": 57
        }
      ]
    }
  ]
}